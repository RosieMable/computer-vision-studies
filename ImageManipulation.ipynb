{
 "cells": [
  {
   "cell_type": "markdown",
   "id": "68c558a9",
   "metadata": {},
   "source": []
  },
  {
   "cell_type": "markdown",
   "id": "3ba5309f",
   "metadata": {},
   "source": [
    "# Image processing with OpenCV\n",
    "\n",
    "Image processing and computer vision tasks include displaying, cropping, flipping, rotating, image segmentation, classification, image restoration, image recognition, image generation.\n",
    "\n",
    "I will use a mix of tutorials found online and the IBM Introduction to Computer Vision offered on Coursera, as well as some images of my favourite characters.\n",
    "\n",
    "Before starting this course I have had limited knowledge of Python and its syntax, so please excuse the non-clean code, it will get better along the way.\n",
    "\n",
    "## Open CV\n",
    "I heard of OpenCV before being interested in Computer Vision, mostly for being used in creating graphs. \n",
    "In this Notebook page I will focus on the following capabilities of the library:\n",
    "-  Image Files and Paths\n",
    "-  Load in Image in Python\n",
    "-  Plotting an Image\n",
    "-  Gray Scale Images, Quantization and Color Channels\n",
    "\n",
    "## Matplotlib\n",
    "Matplotlib is a comprehensive library for creating static, animated, and interactive visualizations.\n",
    "\n",
    "I had never heard of it before, but I will be using it as image plotting with OpenCV does not always work out well on Jupyter Notebooks."
   ]
  },
  {
   "cell_type": "code",
   "execution_count": null,
   "id": "c91d8d34",
   "metadata": {},
   "outputs": [],
   "source": [
    "import os\n",
    "import cv2\n",
    "import matplotlib.pyplot as plt\n",
    "\n",
    "cwd = os.getcwd()\n",
    "image = \"imgs/seph.png\"\n",
    "\n",
    "image_path = os.path.join(cwd, image)\n",
    "\n",
    "image = cv2.imread(image) #The result of this is a numpy array with intesity values as 8bit unsigned integers\n",
    "plt_img = cv2.cvtColor(image, cv2.COLOR_BGR2RGB) #Converting from BGR, which is the default OpenCV colour format to RGB\n",
    "\n",
    "\n",
    "plt.figure(figsize=(10,10))\n",
    "plt.imshow(plt_img)\n",
    "plt.show()\n"
   ]
  },
  {
   "cell_type": "markdown",
   "id": "e5ddb432",
   "metadata": {},
   "source": [
    "# Grayscale Images\n",
    "Grayscale images are single-channeled images in which each pixel carries only information about the intensity of light. These images are exclusively made up of shades of gray.\n",
    "\n",
    "Grayscale images have pixel values representing the amount of light or intensity. Light shades of gray have a high-intensity darker shades have a lower intensity. White has the highest intensity, and black the lowest."
   ]
  },
  {
   "cell_type": "code",
   "execution_count": null,
   "id": "ce851198",
   "metadata": {},
   "outputs": [],
   "source": [
    "import os\n",
    "import cv2\n",
    "import matplotlib.pyplot as plt\n",
    "from PIL import Image\n",
    "\n",
    "def load_img_from_path_withColorMap(imagePath, colorMap): #Types? What is a type??? We are dynamic here\n",
    "    img = os.path.join(os.getcwd(), imagePath)\n",
    "    img = cv2.imread(img)\n",
    "    img = cv2.cvtColor(img, colorMap)\n",
    "    return img\n",
    "\n",
    "def plot_image(img, width, height, colorMap):\n",
    "    plt.figure(figsize=(width, height))\n",
    "    plt.imshow(img, cmap=colorMap)\n",
    "    plt.show()\n",
    "\n",
    "\n",
    "\n",
    "image = load_img_from_path_withColorMap(\"imgs/seph.png\", cv2.COLOR_BGR2GRAY)\n",
    "\n",
    "plot_image(image_gray, 10, 10, 'gray')"
   ]
  },
  {
   "cell_type": "markdown",
   "id": "6c2db56d",
   "metadata": {},
   "source": [
    "# Color Channels\n",
    "\n",
    "This is a known concept, thank you graphics programming!\n",
    "In digital imaging, we have different ways of representing colors, one of the most common methods is by using the RGB (red, green and blue) color channel model.\n",
    "Each pixel of an RGB image has a red, green and blue component, and each component has 256 intesity levels.\n",
    "In programming terms we will end up having a 3-dimensional array.\n",
    "\n",
    "## Slicing Operation\n",
    "\n",
    "The Slicing Operation is used to extract individual color channels from the RGB 3D array.\n",
    "Coming from C++ I was expecting to something similar to \n",
    "\n",
    "\n",
    "```\n",
    "int main()\n",
    "{\n",
    "    //.... assuming we have loaded the image (called 'img')+ checked the img is valid\n",
    "    std::vector<Matrix> colorChannels;\n",
    "    ImageProcessingLib::Split(img, colorChannels);\n",
    "\n",
    "    Matrix blue = colorChannels[0];\n",
    "    Matrix green = colorChannels[1];\n",
    "    Matrix red = colorChannels[3];\n",
    "}\n",
    "```\n",
    "\n",
    "Instead the course I am following prefers to use ```blue, green, red = img[:, :, 0], img[:, :, 1], img[:, :, 2]``` , which was a confusing syntax at the start, so I am writing down some notes to remember it.\n",
    "\n",
    "For a color image, the shape of the array is often (height, width, 3), where:\n",
    "- height is the number of rows of pixels.\n",
    "- width is the number of columns of pixels.\n",
    "- 3 represents the three color channels: Red (R), Green (G), and Blue (B).\n",
    "\n",
    "The operand `:` on its own tells us  we are selecting all elements of one dimension of the array. \n",
    "Hence, `img[:, :, 0]` means that we are getting all the height and width data + the first channel (blue because we are in BGR) at index 0."
   ]
  },
  {
   "cell_type": "code",
   "execution_count": null,
   "id": "c0ffde77",
   "metadata": {},
   "outputs": [],
   "source": [
    "import os\n",
    "import cv2\n",
    "import matplotlib.pyplot as plt\n",
    "from PIL import Image\n",
    "\n",
    "def load_img_from_path_withColorMap(imagePath, colorMap): \n",
    "    img = os.path.join(os.getcwd(), imagePath)\n",
    "    img = cv2.imread(img)\n",
    "    img = cv2.cvtColor(img, colorMap)\n",
    "    return img\n",
    "\n",
    "img = load_img_from_path_withColorMap(\"imgs/sesshomaru.png\", cv2.COLOR_BGR2RGB)\n",
    "blue, green, red = img[:, :, 0], img[:, :, 1], img[:, :, 2] #Slicing operation, see the comment above for confusion on the : operand\n",
    "img_channels = cv2.vconcat([blue, green, red])\n",
    "\n",
    "plt.figure(figsize=(10,10))\n",
    "plt.subplot(121)\n",
    "plt.imshow(img)\n",
    "plt.title(\"RGB image\")\n",
    "plt.subplot(122)\n",
    "plt.imshow(img_channels,cmap='gray')\n",
    "plt.title(\"Different color channels  blue (top), green (middle), red (bottom)  \")\n",
    "plt.show()"
   ]
  }
 ],
 "metadata": {
  "kernelspec": {
   "display_name": "Python 3",
   "language": "python",
   "name": "python3"
  },
  "language_info": {
   "codemirror_mode": {
    "name": "ipython",
    "version": 3
   },
   "file_extension": ".py",
   "mimetype": "text/x-python",
   "name": "python",
   "nbconvert_exporter": "python",
   "pygments_lexer": "ipython3",
   "version": "3.13.0"
  }
 },
 "nbformat": 4,
 "nbformat_minor": 5
}
