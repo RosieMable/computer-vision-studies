{
 "cells": [
  {
   "cell_type": "markdown",
   "metadata": {},
   "source": []
  },
  {
   "cell_type": "markdown",
   "metadata": {},
   "source": [
    "# Image Classification Overview\n",
    "\n",
    "## Definition\n",
    "- **Image classification** is the process of automatically categorizing images into predefined classes or labels (e.g., cat, car, building).\n",
    "\n",
    "## Classes\n",
    "- Each class is represented by a label (Y)\n",
    "Example:\n",
    "  - Y = 0 for cat\n",
    "  - Y = 1 for dog\n",
    "\n",
    "## Importance and Applications\n",
    "- **Everyday Use**: Smartphones organize pictures by recognizing faces or events.\n",
    "- **Medical Applications**: Used in radiology to identify anomalies in X-rays.\n",
    "- **Autonomous Vehicles**: Self-driving cars classify images to navigate roads.\n",
    "\n",
    "## Data Representation\n",
    "- **Image Representation**: \n",
    "  - Computers interpret images as intensity values in a digital format.\n",
    "  - For RGB images, it's represented as a three-dimensional array (tensor).\n",
    "  - All images must have the same dimensions (rows and columns).\n",
    "  \n",
    "- **Data Set**: \n",
    "  - A collection of images (X) and their corresponding labels (Y).\n",
    "  - Example: For a dataset with seven samples, the notation Y4 = 1 indicates that image X4 is a dog.\n",
    "\n",
    "## Challenges in Image Classification\n",
    "- **Variability**: \n",
    "  - Changes in viewpoint, illumination, deformation, occlusion, and background clutter can complicate classification.\n",
    "\n",
    "## Methods for Image Classification\n",
    "- **Supervised Learning Techniques**: \n",
    "  - K-Nearest Neighbors\n",
    "  - Feature extraction\n",
    "  - Linear classifiers\n"
   ]
  }
 ],
 "metadata": {
  "language_info": {
   "name": "python"
  }
 },
 "nbformat": 4,
 "nbformat_minor": 2
}
