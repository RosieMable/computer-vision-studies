{
 "cells": [
  {
   "cell_type": "markdown",
   "metadata": {},
   "source": [
    "# Geomatric Transformations\n",
    "\n",
    "Geometric transformations change the coordinates of an image, affecting its appearance.\n",
    "\n",
    "## Image Representation\n",
    "Images are treated as functions of coordinates (x, y).\n",
    "Integer points are sampled (e.g., (0,0), (1,1)).\n",
    "\n",
    "## Affine Transformations\n",
    "\n",
    "A subset of geometric transformations that includes:\n",
    "\n",
    "### Scaling\n",
    "Reshaping the image (shrinking or expanding).\n",
    "Scaling factors can be applied to both x and y axes.\n",
    "Example: Scaling by a factor of 2 stretches \n",
    "the image.\n",
    "**Interpolation** is a method used to determine unknown pixel values based on neighboring pixels.\n",
    "\n",
    "### Translation\n",
    "Shifting the image horizontally or vertically.\n",
    "Achieved by adding pixel values (tx for horizontal, ty for vertical).\n",
    "\n",
    "### Rotation\n",
    "Rotating the image by a specified angle (θ).\n",
    "Uses a rotation matrix for counter-clockwise rotation."
   ]
  }
 ],
 "metadata": {
  "language_info": {
   "name": "python"
  }
 },
 "nbformat": 4,
 "nbformat_minor": 2
}
